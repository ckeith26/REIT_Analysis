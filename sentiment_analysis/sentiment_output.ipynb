{
 "cells": [
  {
   "cell_type": "markdown",
   "metadata": {},
   "source": [
    "# Sentiment Analysis\n",
    "\n",
    "Obtain textual data for sentiment analysis from financial news sources and social media. Sentiment Analysis: Utilize GPT api to run sentiment analysis on the textual data to extract sentiment scores for each REIT in the office sector."
   ]
  },
  {
   "cell_type": "code",
   "execution_count": 1,
   "metadata": {},
   "outputs": [],
   "source": [
    "# import and setup necessary libraries\n",
    "import pandas as pd\n",
    "# import openai\n",
    "# openai.organization = \"YOUR_ORG_ID\"\n",
    "# openai.api_key = os.getenv(\"API_KEY\")\n",
    "# openai.Model.list()"
   ]
  },
  {
   "cell_type": "code",
   "execution_count": 41,
   "metadata": {},
   "outputs": [
    {
     "name": "stdout",
     "output_type": "stream",
     "text": [
      "      month  year                    company  sentiment_score\n",
      "0         1    12                        nan           0.3846\n",
      "1         1    13                        nan           0.9015\n",
      "2         1    14                        nan           0.9390\n",
      "3         1    15                        nan           0.5936\n",
      "4         1    16  Armada Hoffler Properties           0.9601\n",
      "...     ...   ...                        ...              ...\n",
      "1651     12    22             Tanger Outlets           0.9287\n",
      "1652     12    22                Timberlands           0.9790\n",
      "1653     12    22             UMH Properties           0.9617\n",
      "1654     12    22               Weyerhaeuser           0.9790\n",
      "1655     12    22                        nan           0.9332\n",
      "\n",
      "[1656 rows x 4 columns]\n",
      "             month        year  sentiment_score\n",
      "count  1656.000000  1656.00000      1656.000000\n",
      "mean      5.935990    20.21558         0.864216\n",
      "std       3.431788     2.51209         0.218899\n",
      "min       1.000000    12.00000        -0.813100\n",
      "25%       3.000000    18.00000         0.849050\n",
      "50%       6.000000    21.00000         0.943700\n",
      "75%       8.000000    22.00000         0.979200\n",
      "max      12.000000    23.00000         0.999900\n"
     ]
    }
   ],
   "source": [
    "# Load the CSV file\n",
    "data = pd.read_csv('reit_news_collection/output.csv')\n",
    "\n",
    "# Create a list to store individual company mentions\n",
    "company_mentions = []\n",
    "\n",
    "# Iterate through each row in the original DataFrame\n",
    "for _, row in data.iterrows():\n",
    "    # Extract companies from the 'companies_mentioned' column\n",
    "    companies = str(row['companies_mentioned']).split(',')  # Convert to string\n",
    "    \n",
    "    # Calculate the sentiment score for each company and add to the list\n",
    "    for company in companies:\n",
    "        company_mentions.append({\n",
    "            'month': row['month'],\n",
    "            'year': row['year'],\n",
    "            'company': company.strip(),  # Remove leading/trailing whitespace\n",
    "            'sentiment_score': row['sentiment_score']\n",
    "        })\n",
    "\n",
    "# Create a new DataFrame from the list of dictionaries\n",
    "company_mentions_df = pd.DataFrame(company_mentions)\n",
    "\n",
    "# Convert 'month' and 'year' columns to integers\n",
    "company_mentions_df['month'] = company_mentions_df['month'].astype(int)\n",
    "company_mentions_df['year'] = company_mentions_df['year'].astype(int)\n",
    "\n",
    "# Calculate the average sentiment scores per month, year, company\n",
    "average_scores = company_mentions_df.groupby(['month', 'year', 'company']).mean().round(4)\n",
    "\n",
    "# Reset the index for better readability\n",
    "average_scores.reset_index(inplace=True)\n",
    "\n",
    "\n",
    "\n",
    "# Print the resulting DataFrame\n",
    "print(average_scores)\n",
    "average_scores.to_csv('average_sentiment_scores.csv', index=False)\n",
    "\n",
    "print(average_scores.describe())"
   ]
  }
 ],
 "metadata": {
  "kernelspec": {
   "display_name": "Python 3.9.6 64-bit",
   "language": "python",
   "name": "python3"
  },
  "language_info": {
   "codemirror_mode": {
    "name": "ipython",
    "version": 3
   },
   "file_extension": ".py",
   "mimetype": "text/x-python",
   "name": "python",
   "nbconvert_exporter": "python",
   "pygments_lexer": "ipython3",
   "version": "3.9.6"
  },
  "orig_nbformat": 4,
  "vscode": {
   "interpreter": {
    "hash": "31f2aee4e71d21fbe5cf8b01ff0e069b9275f58929596ceb00d14d90e3e16cd6"
   }
  }
 },
 "nbformat": 4,
 "nbformat_minor": 2
}
